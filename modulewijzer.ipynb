{
 "cells": [
  {
   "cell_type": "markdown",
   "metadata": {},
   "source": [
    "# Development 1"
   ]
  },
  {
   "cell_type": "markdown",
   "metadata": {},
   "source": [
    "## Introduction\n",
    "This is the course descriptor for the _Development 1_ course.\n",
    "\n",
    "Development 1 covers a basic introduction to computational concepts needed to learn programming languages in general. The course opens with a description of computations as transitions in a state machine, defining what _state_ means and what for operations cane be performed on it; the course then moves on to defining statements and expressions, their basic syntax, and their semantics as manipulation of the state that also alters the current program in order to store progress in the program itself.\n",
    "\n",
    "An important reminder: the course (nor the Informatica degree of Hogeschool Rotterdam, for that matter) is not meant to provide students with a series of tips and tricks to be quickly successful at one's job. Rather, the course aims to build a solid foundation upon which learning of all sorts of programming languages will be based. This *will*, without a doubt, prepare students not only for their first professional tasks, but for all their evolutions. Moreover, understanding of these concepts will allow students to wield their professional tools (programming languages) with certainty instead of intuition, thereby greatly increasing the quality of what they deliver and their value on the job market. "
   ]
  },
  {
   "cell_type": "markdown",
   "metadata": {},
   "source": [
    "### Learning goals\n",
    "The course has the following learning goals:\n",
    "- (TH1) students _understand_ components of a programming language: statements and expressions, state, transitions, and the denotational definition of semantics;\n",
    "- (PR1) students can _read and understand code_; _understand_ here means that students can describe the effect of running the program by predicting the sequence of state transitions produced by its execution;\n",
    "- (PR2) students can _write small snippets of code_ in order to complete an existing program, from a clearly given specification of the state transitions that the completed program is expected to perform.\n",
    "\n",
    "The course, and therefore also the learning goals, are limited to simple imperative programs and the following Python 3 statements and expressions: `if`, `while`, `=`, `+`, `-`, `/`, `//`, `*`, `str`, `print`."
   ]
  },
  {
   "cell_type": "markdown",
   "metadata": {},
   "source": [
    "### Exam\n",
    "The exam consists of three blocks:\n",
    "- a series of *forward assignments*, that is excercises where given full code, and partial state transitions produced by the code, students are requested to predict the missing state transitions the code will produce;\n",
    "- a series of *backward assignments*, that is excercises where given partial code, and the desired state transitions, students are requested to fill in the missing code that matches the given state transitions;\n",
    "- a series of *multiple choice* questions on the formal interpretation of state transitions induced by statements, expression evaluation, and state manipulation."
   ]
  },
  {
   "cell_type": "markdown",
   "metadata": {},
   "source": [
    "## Lecture plan\n",
    "The course is made up of eight lectures and practicums. The lectures begin with an introduction of the basic concepts, which are then elaborated during the practicums. The lectures handle the theory, plus applied examples. The applied examples are then further elaborated during the practicums."
   ]
  },
  {
   "cell_type": "markdown",
   "metadata": {},
   "source": [
    "### Lecture 1\n",
    "The first lecture defines the basic computational concepts. \n",
    "\n",
    "#### Theory\n",
    "_Note_: ensure that students copy, by hand and on paper, the various definitions written by the teacher on the whiteboard. It is strongly advised to ask students *not* to use a laptop, as it will prove distracting.\n",
    "\n",
    "The activities performed are:\n",
    "- technical definition of a computer as state (memory) plus instructions;\n",
    "- abstract definition of a computer as an infinite graph of all possible sequences of instructions dictated by programs;\n",
    "- examples/drawing of (a tiny piece) of such graph;\n",
    "- programs restrict our attention to a very small, but still potentially infinite, subset of such graph;\n",
    "- define a state as a set of name-value bindings;\n",
    "- define a binding as: $n := v$, where $n$; is the name and $v$ is the value;\n",
    "- explain what a definition is, and that in a definition such as the one above, $n$ and $v$ are just _placeholders_ to be filled in;\n",
    "- give numerous examples (at least five, aim for ten), of bindings: use abstract names such as $x := 5$, then move on to more logic bindings such as $year := 2017$;\n",
    "- define a state as a series of bindings: $\\{ n_1 := v_1, n_2 := v_2, \\dots \\}$;\n",
    "- give numerous examples (at least five) of states: begin with abstract variable names $\\{ x := 1, y := 2 \\}$, then move on to concrete examples such as $\\{ day := 2, month := 3, year := 1985 \\}$;\n",
    "- discuss lookup on a state $\\{ x := 1, y := 2 \\}[x] \\rightarrow 1$ and how it reads in english;\n",
    "- discuss the arrow in the notation for lookup as _computation_ (\"computation is following arrows until there are no more arrows to follow\");\n",
    "- show five examples of lookup, ranging from the abstract to the concrete;\n",
    "- discuss assignment on a state $\\{ x := 1, y := 2 \\}[x := 5] \\rightarrow \\{ x := 5, y := 2 \\}$;\n",
    "- show five examples of assignment, ranging from the abstract to the concrete; \n",
    "- discuss removal from a state $\\{ x := 1, y := 2, z := 3 \\} - [ z ] \\rightarrow \\{ x := 1, y := 2 \\}$;\n",
    "- show five examples of removal, ranging from the abstract to the concrete; \n",
    "- explain that state can nest, that is the right side of a binding can be another state;\n",
    "- show five examples of nesting ranging from the abstract to the concrete, for example $\\{ jim := \\{ name: \"Jim\", surname: \"Mij\" \\} \\}$;\n",
    "- show lookup on a nested state, such as $\\{ jim := \\{ name: \"Jim\", surname: \"Mij\" \\} \\}[jim][name] \\rightarrow \\{ name: \"Jim\", surname: \"Mij\" \\}[name] \\rightarrow \"Jim\"$;\n",
    "- show assignment on a nested state;\n",
    "- discuss our first complex computation, and how it chained two smaller computations to produce a bigger one;\n",
    "- define a language as a series of statements, which are combined into a program;\n",
    "- define a statement as:\n",
    "    - syntax: structured text with variable parts, such as `if C then P else Q`, where `C`, `P`, and `Q` are variable parts;\n",
    "    - semantics: how the statement transforms itself and a state into a new program and a new state;\n",
    "- define a program step as taking a program and a state, checking the current instruction, and deriving a new program (the rest) and a new state by following the semantics of the current instruction: `P,S` $\\rightarrow$ `P',S'`;\n",
    "- define running a program as starting from the program and the initial state, and taking steps until there are no more steps to take;\n",
    "- define a tiny language, `Turtle`, with the following statements:\n",
    "    - `up N`, where `N` is an arbitrary integer number;\n",
    "    - `down N`, where `N` is an arbitrary integer number;\n",
    "    - `left N`, where `N` is an arbitrary integer number;\n",
    "    - `right N`, where `N` is an arbitrary integer number;\n",
    "    - `done`;\n",
    "    - `I;J`, where `I` and `J` are arbitrary statements.\n",
    "- define the semantics of `Turtle`, taking the time to illustrate each statement with an example, as:\n",
    "    - `eval(<up N>, S)` $\\rightarrow$ `<done>, S[y := S[y] + N]`;\n",
    "    - `eval(<down N>, S)` $\\rightarrow$ `<done>, S[y := S[y] - N]`;\n",
    "    - ...\n",
    "    - `eval(<done>, S)` $\\rightarrow$ `<done>, S`;\n",
    "    - `eval(<I; J>, S)` $\\rightarrow$ `<I';J>, S'` given that `eval(<I>,S)` $\\rightarrow$ `<I'>, S'` and `I` $\\neq$ `done`;\n",
    "    - `eval(<done; I>, S)` $\\rightarrow$ `<I>, S`;\n",
    "- given that the empty state for a `Turtle` program is $\\{ x := 0, y := 0 \\}$, and that a `Turtle` program terminates when it reaches the configuration `<done>, S`, show how to run the following program: `up 2; up 2; right 2; right 2; down 2; down 2; left 2; left 2; done`.\n",
    "\n",
    "\n",
    "#### Practice\n",
    "Note: the practice happens almost exclusively on paper.\n",
    "\n",
    "The activities performed are:\n",
    "- read and write bindings and states;\n",
    "- model simple real world information as states (person, date, ...);\n",
    "- perform lookups and assignments on states;\n",
    "- model simple real world information as nested states (person with date of birth, ...);\n",
    "- perform lookups and assignments on nested states;\n",
    "- ask students to run the following program, on paper, illustrating all steps: "
   ]
  },
  {
   "cell_type": "code",
   "execution_count": null,
   "metadata": {
    "collapsed": true
   },
   "outputs": [],
   "source": []
  }
 ],
 "metadata": {
  "kernelspec": {
   "display_name": "Python 3",
   "language": "python",
   "name": "python3"
  },
  "language_info": {
   "codemirror_mode": {
    "name": "ipython",
    "version": 3
   },
   "file_extension": ".py",
   "mimetype": "text/x-python",
   "name": "python",
   "nbconvert_exporter": "python",
   "pygments_lexer": "ipython3",
   "version": "3.5.2"
  }
 },
 "nbformat": 4,
 "nbformat_minor": 1
}
