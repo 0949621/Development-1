{
 "cells": [
  {
   "cell_type": "markdown",
   "metadata": {},
   "source": [
    "# Development 1"
   ]
  },
  {
   "cell_type": "markdown",
   "metadata": {},
   "source": [
    "## Introduction\n",
    "This is the course descriptor for the _Development 1_ course.\n",
    "\n",
    "Development 1 covers a basic introduction to computational concepts needed to learn programming languages in general. The course opens with a description of computations as transitions in a state machine, defining what _state_ means and what for operations cane be performed on it; the course then moves on to defining statements and expressions, their basic syntax, and their semantics as manipulation of the state that also alters the current program in order to store progress in the program itself.\n",
    "\n",
    "An important reminder: the course (nor the Informatica degree of Hogeschool Rotterdam, for that matter) is not meant to provide students with a series of tips and tricks to be quickly successful at one's job. Rather, the course aims to build a solid foundation upon which learning of all sorts of programming languages will be based. This *will*, without a doubt, prepare students not only for their first professional tasks, but for all their evolutions. Moreover, understanding of these concepts will allow students to wield their professional tools (programming languages) with certainty instead of intuition, thereby greatly increasing the quality of what they deliver and their value on the job market. "
   ]
  },
  {
   "cell_type": "markdown",
   "metadata": {},
   "source": [
    "### Learning goals\n",
    "The course has the following learning goals:\n",
    "- (TH1) students _understand_ components of a programming language: statements and expressions, state, transitions, and the denotational definition of semantics;\n",
    "- (PR1) students can _read and understand code_; _understand_ here means that students can describe the effect of running the program by predicting the sequence of state transitions produced by its execution;\n",
    "- (PR2) students can _write small snippets of code_ in order to complete an existing program, from a clearly given specification of the state transitions that the completed program is expected to perform.\n",
    "\n",
    "The course, and therefore also the learning goals, are limited to simple imperative programs and the following Python 3 statements and expressions: `if`, `while`, `=`, `+`, `-`, `/`, `//`, `*`, `str`, `print`."
   ]
  },
  {
   "cell_type": "markdown",
   "metadata": {},
   "source": [
    "### Exam\n",
    "The exam consists of three blocks:\n",
    "- a series of *forward assignments*, that is excercises where given full code, and partial state transitions produced by the code, students are requested to predict the missing state transitions the code will produce;\n",
    "- a series of *backward assignments*, that is excercises where given partial code, and the desired state transitions, students are requested to fill in the missing code that matches the given state transitions;\n",
    "- a series of *multiple choice* questions on the formal interpretation of state transitions induced by statements, expression evaluation, and state manipulation."
   ]
  },
  {
   "cell_type": "markdown",
   "metadata": {},
   "source": [
    "## Lecture plan\n",
    "The course is made up of eight lectures and practicums. The lectures begin with an introduction of the basic concepts, which are then elaborated during the practicums. The lectures handle the theory, plus applied examples. The applied examples are then further elaborated during the practicums."
   ]
  },
  {
   "cell_type": "markdown",
   "metadata": {},
   "source": []
  },
  {
   "cell_type": "code",
   "execution_count": null,
   "metadata": {
    "collapsed": true
   },
   "outputs": [],
   "source": []
  }
 ],
 "metadata": {
  "kernelspec": {
   "display_name": "Python 3",
   "language": "python",
   "name": "python3"
  },
  "language_info": {
   "codemirror_mode": {
    "name": "ipython",
    "version": 3
   },
   "file_extension": ".py",
   "mimetype": "text/x-python",
   "name": "python",
   "nbconvert_exporter": "python",
   "pygments_lexer": "ipython3",
   "version": "3.5.2"
  }
 },
 "nbformat": 4,
 "nbformat_minor": 1
}
