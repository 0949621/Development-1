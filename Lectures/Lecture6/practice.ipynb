{
 "cells": [
  {
   "cell_type": "markdown",
   "metadata": {},
   "source": [
    "# Activities"
   ]
  },
  {
   "cell_type": "markdown",
   "metadata": {},
   "source": [
    "Note: the practice happens almost exclusively on paper, mostly in terms of forward and backward assignment.\n",
    "\n",
    "The forward assignments are:\n",
    "- anticipating the value of a complex expression that uses operator precedence\n",
    "- anticipating the value of variables assigned inside conditionals\n",
    "    - given an input (also possible to simulate input with just a constant), see if it is even/odd and assign a string to \"even\"/\"odd\"\n",
    "- anticipating the value of variables assigned inside basic loops\n",
    "    - repeated sum\n",
    "    - repeated product\n",
    "    - repeated division\n",
    "    - ...    "
   ]
  }
 ],
 "metadata": {
  "kernelspec": {
   "display_name": "Python 3",
   "language": "python",
   "name": "python3"
  },
  "language_info": {
   "codemirror_mode": {
    "name": "ipython",
    "version": 3
   },
   "file_extension": ".py",
   "mimetype": "text/x-python",
   "name": "python",
   "nbconvert_exporter": "python",
   "pygments_lexer": "ipython3",
   "version": "3.5.2"
  }
 },
 "nbformat": 4,
 "nbformat_minor": 1
}
