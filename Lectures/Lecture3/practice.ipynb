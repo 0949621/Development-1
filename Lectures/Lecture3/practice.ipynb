{
 "cells": [
  {
   "cell_type": "markdown",
   "metadata": {},
   "source": [
    "# Activities"
   ]
  },
  {
   "cell_type": "markdown",
   "metadata": {},
   "source": [
    "Note: the practice happens almost exclusively on paper, potentially augmented by multiple choice questions in order to submit an answer that shows understanding.\n",
    "\n",
    "The activities performed are:\n",
    "- expression evaluation for numerous boolean expressions with state\n",
    "- expression evaluation for a few int and float expressions with state (use `/` for float division and `//` for integer division)\n",
    "- expression evaluation for a few string expressions with state\n",
    "- expression evaluation for a few multi-type expressions (`str((x >= z) or (x <= y))`) with state\n",
    "- instruction evaluation for a few small programs with complex multy-type expressions and variable assignment\n",
    "    - ...\n",
    "- instruction evaluation for numerous small programs with complex, multi-type expressions and variable assignment, but in GrandeOmega and in the form of ForwardAssignments"
   ]
  }
 ],
 "metadata": {
  "kernelspec": {
   "display_name": "Python 3",
   "language": "python",
   "name": "python3"
  },
  "language_info": {
   "codemirror_mode": {
    "name": "ipython",
    "version": 3
   },
   "file_extension": ".py",
   "mimetype": "text/x-python",
   "name": "python",
   "nbconvert_exporter": "python",
   "pygments_lexer": "ipython3",
   "version": "3.5.2"
  }
 },
 "nbformat": 4,
 "nbformat_minor": 1
}
