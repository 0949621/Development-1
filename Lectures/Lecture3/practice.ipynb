{
 "cells": [
  {
   "cell_type": "markdown",
   "metadata": {
    "collapsed": true
   },
   "source": [
    "# Activities"
   ]
  },
  {
   "cell_type": "markdown",
   "metadata": {
    "collapsed": true
   },
   "source": [
    "Note: the practice happens almost exclusively on paper, potentially augmented by multiple choice questions in order to submit an answer that shows understanding.\n",
    "\n",
    "The activities performed are:\n",
    "- expression evaluation for numerous boolean expressions with state\n",
    "    - `eval_expr(<true>,{true:=False})`\n",
    "    - `eval_expr(<false and true>,{true:=False, false:=True})`\n",
    "    - `eval_expr(<false != true>,{true:=False, false:=True})`\n",
    "    - `eval_expr(<a and b and c and d>,{d:=False, c:=True, b:=True, a:=True})`\n",
    "    - `eval_expr(<u or v or w or x>,{u:=False, v:=False, w:=False, x:=True})`\n",
    "    - `eval_expr(<((a or u) and not (b and not v)) or ((c and not w) or (d and not x))>,{d:=False, c:=True, b:=True, a:=True, u:=False, v:=False, w:=False, x:=True})`\n",
    "\n",
    "- expression evaluation for a few int and float expressions with state (use `/` for float division and `//` for integer division)\n",
    "    - `eval_expr(<a + b>,{a:=97531, b:=2469})`\n",
    "    - `eval_expr(<math.log(a + b, 10)>,{a:=97531, b:=2469})`\n",
    "    - `eval_expr(<amount*(interest+1)**years>,{amount:=2, interest:=0.1, years:=3})`\n",
    "    - `eval_expr(<nr_nodes*(nr_nodes-1)/2>,{nr_nodes:=20})`\n",
    "    - `eval_expr(<1/(1/resistance1+1/resistance2)>,{resistance1:=2, resistance2:=3})`\n",
    "    - `eval_expr(<a*a+b*b>,{a:=12, b:=5})`\n",
    "    \n",
    "- expression evaluation for a few string expressions with state\n",
    "    - `eval_expr(<h+w>,{h:=\"Hello\", w:=\"world\"})`\n",
    "    - `eval_expr(<h+\" \"+w+\"!\">,{h:=\"Hello\", w:=\"world\"})`\n",
    "\n",
    "- expression evaluation for a few multi-type expressions (`str((x >= z) or (x <= y))`) with state\n",
    "    - `eval_expr(<len(\"Resistance is futile\") + 2 >= len(h+\" brave new \"+w+\"!\")>,{h:=\"Hello\", w:=\"world\"})`\n",
    "    - `eval_expr(<len(\"Nah\"+7*\"nah\"+b) == len(8*str(float(\"NaN\"))+b),{b:=\", batman!!!\"})`\n",
    "    - `eval_expr(<float(\"1\"+str(1/float(i+n+f))),{i:=\"i\", n:=\"n\", f:=\"f\"})`\n",
    "\n",
    "- instruction evaluation for a few small programs with complex multy-type expressions and variable assignment\n",
    "    - `eval(<a:=1; b:=a+a; a:=int(str(b)+str(b)); b:=a*a a:=int(str(b)+str(b));>,{}})`\n",
    "\n",
    "- instruction evaluation for numerous small programs with complex, multi-type expressions and variable assignment, but in GrandeOmega and in the form of ForwardAssignments\n",
    "\n"
   ]
  },
  {
   "cell_type": "markdown",
   "metadata": {},
   "source": []
  }
 ],
 "metadata": {
  "kernelspec": {
   "display_name": "Python 3",
   "language": "python",
   "name": "python3"
  },
  "language_info": {
   "codemirror_mode": {
    "name": "ipython",
    "version": 3
   },
   "file_extension": ".py",
   "mimetype": "text/x-python",
   "name": "python",
   "nbconvert_exporter": "python",
   "pygments_lexer": "ipython3",
   "version": "3.6.1"
  }
 },
 "nbformat": 4,
 "nbformat_minor": 1
}
