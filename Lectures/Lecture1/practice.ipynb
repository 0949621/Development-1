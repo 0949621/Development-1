{
 "cells": [
  {
   "cell_type": "markdown",
   "metadata": {},
   "source": [
    "# Activities"
   ]
  },
  {
   "cell_type": "markdown",
   "metadata": {},
   "source": [
    "Note: the practice happens almost exclusively on paper, potentially augmented by multiple choice questions in order to submit an answer that shows understanding.\n",
    "\n",
    "The activities performed are:\n",
    "- Translate the following states into natural language\n",
    "    - $\\{ position1: \\{ x := 3, y := 0 \\}, position2: \\{ x := 5, y := \"De Jong\" \\} \\}$\n",
    "    - $\\{ person1: \\{ name := \"Jim\", surname := \"Smit\" \\}, person2: \\{ name := \"Wim\", surname := \"De Jong\" \\} \\}$\n",
    "    - $\\{ mondayForecast: \\{ condition := \"Cloudy\", minTemperature := 13, maxTemperature := 23, wind := 15, humidity := 63\\% \\}$, - $\\{ sundayForecast: \\{ condition := \"Sunny\", minTemperature := 18, maxTemperature := 26, wind := 0, humidity := 80\\% \\}$\n",
    "    - $\\{ student1: \\{ name := \"John\", surname := \"Doe\", course := \\{ code := \"CMIINF\", name := \\text{\"Computer Science\"} \\}  \\}$, $\\{ student2: \\{ name := \"Jane\", surname := \"Doe\", course := \\{ code := \"CMITI\", name := \\text{\"Computer Engineering\"} \\}  \\}$    \n",
    "- Modify the state representation of the StdNt program to include the position of a student in the state.\n",
    "- Model the following real world information\n",
    "   - A car has a model name, a specification saying whether it is used or not, and the mileage (total distance travelled during its lifetime).\n",
    "   - A video game has a title, a producer, a PEGI (https://en.wikipedia.org/wiki/Pan_European_Game_Information), and a price.\n",
    "   - A CPU has a model code, an amout of cache levels, an amount of cores, and the frequency. (example: https://ark.intel.com/products/97185/Intel-Core-i7-7700HQ-Processor-6M-Cache-up-to-3_80-GHz)\n",
    "   - Modify the solution of the exercise above to explictly represent the level of the cache and the size of each cache level (again refer to the link above).\n",
    "   - Represent a citizen with BSN, name, surname, address, and job. An address contains the city, street, and house number. The job contains a name, a salary, and a scale level (which is a number).\n",
    "   \n",
    "- What is the result of $\\{ x := 1, y := 2 \\}[y]$\n",
    "- What is the next state returned by $\\{ x := 1, y := 2 \\}[y := 3]$?\n",
    "- What is the next state returned by $\\{ x := \\{a1 : = 3 a2 := 1\\}, y := 2 \\}[y : = x[a1]]$?\n",
    "- What is the next state returned by $\\{ x := \\{a1 : = 3 a2 := 1\\}, y := 2 \\}[x := \\{ a1 := \\{ x := \\{a1 : = 0 a2 := 0}, y := -2 \\}[y] \\} y : = x[a2]]$?\n",
    "- What is the next state returned by $\\{ x := \\{ a1 := 2, d := \\text{\"How are you?\"} \\}, y := 5 \\}[x[d]]$?\n",
    "\n",
    "*For the following exercises assume that, by convention, the x axis points to the right and the y axis points to the top. Also assume that rotation angles grow counter-clockwise and that an angle 0 corresponds to 3 'o clock (the position of hour 3 in a normal clock)*\n",
    "\n",
    "- Given the initial state $\\{ x := 5, y := -2, r := 0 \\}$, where x and y represent the position of a student, and r the rotation angle, write the state trace (the representation of the state after executing each statement) of the following program in StdNt and draw the path walked by the student in the reference system.\n",
    "    ```\n",
    "    4 steps up\n",
    "    rotate by 90 degrees\n",
    "    1 steps right\n",
    "    1 steps down\n",
    "    rotate by -90 degrees\n",
    "    ``` \n",
    "- Given the initial state $\\{ x := 2, y := 1, r := 90, A := 5\\}$ write the state trace of the following program in StdNt and draw the path walked by the student in the reference system.\n",
    "\n",
    "    ```\n",
    "    rotate by -90 * A degrees\n",
    "    A steps up\n",
    "    rotate by 90 * x degrees\n",
    "    x + y steps right\n",
    "    ```\n",
    "    \n",
    "- Given the initial state $\\{ x := 2, y := 1, r := 90, A := 5\\}$ write the state trace of the following program in StdNt and draw the path walked by the student in the reference system.\n",
    "   ```\n",
    "   A steps down\n",
    "   rotate by 45 * y\n",
    "   write x + y in A\n",
    "   jump to position (x,y)\n",
    "   ```\n",
    "- Given the initial state $\\{ x := 0, y := 0, r := 0, A := 0\\}$ write the state trace of the following program in StdNt and draw the path walked by the student in the reference system.\n",
    "    ```\n",
    "    write the index of the month of your birth date in A\n",
    "    A steps right\n",
    "    jump to position (x - A, y - A)\n",
    "    turn -x * 90 degrees\n",
    "    ```\n",
    "- Given the initial state $\\{ x := 5, y := -2, r := -90, A := 5, B := 3\\}$ write the state trace of the following program in StdNt and draw the path walked by the student in the reference system.\n",
    "\n",
    "    ```\n",
    "    set A to today's day index (Monday = 1, Tuesday = 2, ...)\n",
    "    set x = A + B\n",
    "    set y = A - B\n",
    "    rotate (x + y) * 90 degrees\n",
    "    x + y steps down\n",
    "    ```\n"
   ]
  },
  {
   "cell_type": "code",
   "execution_count": null,
   "metadata": {
    "collapsed": true
   },
   "outputs": [],
   "source": []
  }
 ],
 "metadata": {
  "kernelspec": {
   "display_name": "Python 3",
   "language": "python",
   "name": "python3"
  },
  "language_info": {
   "codemirror_mode": {
    "name": "ipython",
    "version": 3
   },
   "file_extension": ".py",
   "mimetype": "text/x-python",
   "name": "python",
   "nbconvert_exporter": "python",
   "pygments_lexer": "ipython3",
   "version": "3.6.1"
  }
 },
 "nbformat": 4,
 "nbformat_minor": 1
}
