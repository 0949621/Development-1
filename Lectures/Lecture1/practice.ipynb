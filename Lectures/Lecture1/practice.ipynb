{
 "cells": [
  {
   "cell_type": "markdown",
   "metadata": {},
   "source": [
    "# Activities"
   ]
  },
  {
   "cell_type": "markdown",
   "metadata": {},
   "source": [
    "Note: the practice happens almost exclusively on paper, potentially augmented by multiple choice questions in order to submit an answer that shows understanding.\n",
    "\n",
    "The activities performed are:\n",
    "- Translate the following states into natural language\n",
    "    - $\\{ position1: \\{ x := 3, y := 0 \\}, position2: \\{ x := 5, y := \"De Jong\" \\} \\}$\n",
    "    - $\\{ person1: \\{ name := \"Jim\", surname := \"Smit\" \\}, person2: \\{ name := \"Wim\", surname := \"De Jong\" \\} \\}$\n",
    "    - $\\{ mondayForecast: \\{ condition := \"Cloudy\", minTemperature := 13, maxTemperature := 23, wind := 15, humidity := 63\\% \\}$, - $\\{ sundayForecast: \\{ condition := \"Sunny\", minTemperature := 18, maxTemperature := 26, wind := 0, humidity := 80\\% \\}$\n",
    "    - $\\{ student1: \\{ name := \"John\", surname := \"Doe\", course := \\{ code := \"CMIINF\", name := \\text{\"Computer Science\"} \\}  \\}$, $\\{ student2: \\{ name := \"Jane\", surname := \"Doe\", course := \\{ code := \"CMITI\", name := \\text{\"Computer Engineering\"} \\}  \\}$    \n",
    "- Modify the state representation of the StdNt program to include the position of a student in the state.\n",
    "- Model the following real world information\n",
    "   - A car has a model name, a specification saying whether it is used or not, and the mileage (total distance travelled during its lifetime).\n",
    "   - A video game has a title, a producer, a PEGI (https://en.wikipedia.org/wiki/Pan_European_Game_Information), and a price.\n",
    "   - A CPU has a model code, an amout of cache levels, an amount of cores, and the frequency. (example: https://ark.intel.com/products/97185/Intel-Core-i7-7700HQ-Processor-6M-Cache-up-to-3_80-GHz)\n",
    "   - Modify the solution of the exercise above to explictly represent the level of the cache and the size of each cache level (again refer to the link above).\n",
    "   - Represent a citizen with BSN, name, surname, address, and job. An address contains the city, street, and house number. The job contains a name, a salary, and a scale level (which is a number).\n",
    "   \n",
    "   \n",
    "   \n",
    "   TODO:\n",
    "- perform at least five of each lookups and assignments on states: \n",
    "    - what is yielded by $\\{ x := 1, y := 2 \\}[y]$?\n",
    "    - what is obtained by $\\{ x := 1, y := 2 \\}[y := 3]$?\n",
    "    - do also nested examples;\n",
    "- ask students to run the following program, on paper, illustrating all steps: `up 1; up 1; up 2; right 5`\n",
    "    - what is the value of the state after the second `up 1` statement?"
   ]
  },
  {
   "cell_type": "code",
   "execution_count": null,
   "metadata": {
    "collapsed": true
   },
   "outputs": [],
   "source": []
  }
 ],
 "metadata": {
  "kernelspec": {
   "display_name": "Python 3",
   "language": "python",
   "name": "python3"
  },
  "language_info": {
   "codemirror_mode": {
    "name": "ipython",
    "version": 3
   },
   "file_extension": ".py",
   "mimetype": "text/x-python",
   "name": "python",
   "nbconvert_exporter": "python",
   "pygments_lexer": "ipython3",
   "version": "3.6.1"
  }
 },
 "nbformat": 4,
 "nbformat_minor": 1
}
