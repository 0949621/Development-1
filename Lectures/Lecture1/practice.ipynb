{
 "cells": [
  {
   "cell_type": "markdown",
   "metadata": {},
   "source": [
    "# Activities"
   ]
  },
  {
   "cell_type": "markdown",
   "metadata": {},
   "source": [
    "Note: the practice happens almost exclusively on paper, potentially augmented by multiple choice questions in order to submit an answer that shows understanding.\n",
    "\n",
    "The activities performed are:\n",
    "- translate at least five states to natural language: $\\{ person1: \\{ name := \"Jim\", surname := \"Smit\" \\}, person2: \\{ name := \"Wim\", surname := \"De Jong\" \\} \\}$ reads as \"Person one has name Jim and surname Smit, person two has name Wim and surname De Jong\", and do not forget nesting;\n",
    "- model, at least five times, simple real world information as states (person, date, ...): write the state from a description such as \"Jim has a student number of 0865432 and is born the 2nd of March 1985\", and do not forget nesting;\n",
    "- perform at least five of each lookups and assignments on states: \n",
    "    - what is yielded by $\\{ x := 1, y := 2 \\}[y]$?\n",
    "    - what is obtained by $\\{ x := 1, y := 2 \\}[y := 3]$?\n",
    "    - do also nested examples;\n",
    "- ask students to run the following program, on paper, illustrating all steps: `up 1; up 1; up 2; right 5`\n",
    "    - what is the value of the state after the second `up 1` statement?"
   ]
  }
 ],
 "metadata": {
  "kernelspec": {
   "display_name": "Python 3",
   "language": "python",
   "name": "python3"
  },
  "language_info": {
   "codemirror_mode": {
    "name": "ipython",
    "version": 3
   },
   "file_extension": ".py",
   "mimetype": "text/x-python",
   "name": "python",
   "nbconvert_exporter": "python",
   "pygments_lexer": "ipython3",
   "version": "3.5.2"
  }
 },
 "nbformat": 4,
 "nbformat_minor": 1
}
