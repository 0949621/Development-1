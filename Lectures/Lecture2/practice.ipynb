{
 "cells": [
  {
   "cell_type": "markdown",
   "metadata": {},
   "source": [
    "# Activities"
   ]
  },
  {
   "cell_type": "markdown",
   "metadata": {},
   "source": [
    "Choose the correct evaluation result for the following expression evaluations and, on paper, write the steps of the full evaluation.\n",
    "\n",
    "- `eval_expr <3 + 2>`,$\\{\\}$\n",
    "    - `eval_expr<5>`\n",
    "    - 5\n",
    "    - `eval_expr<3 + 2>`\n",
    "    - `eval_expr<3>`,$\\{\\}$ + `eval_expr<2>`,$\\{\\}$\n",
    "- `eval_expr <3 + 2 * 5>,`$\\{\\}$\n",
    "    - `eval_expr<25>`,$\\{\\}$\n",
    "    - `eval_expr<3>`,$\\{\\}$ + `eval_expr<2 * 5>`,$\\{\\}$\n",
    "    - `eval_expr<3>`,$\\{\\}$ + `eval_expr<10>`,$\\{\\}$\n",
    "    - `eval_expr<13>`,$\\{\\}$\n",
    "- `eval_expr <(3 + 2) * 5>,`$\\{\\}$\n",
    "    - `eval_expr<30>`,$\\{\\}$\n",
    "    - `eval_expr<3 + 2>`,$\\{\\}$ * `eval_expr<5>`,$\\{\\}$\n",
    "    - `eval_expr<3>`,$\\{\\}$ + `eval_expr<2 * 5>`,$\\{\\}$\n",
    "    - `eval_expr<5>`,$\\{\\}$ * `eval_expr<3 + 2>`,$\\{\\}$\n",
    "- `eval_expr <3 * 2 + 10 / 5 - 3>,` $\\{ \\}$\n",
    "    - `eval_expr<3 * 2>`,$\\{\\}$ + `eval_expr<10 / 5 - 3>`,$\\{\\}$\n",
    "    - `eval_expr<6>`,$\\{\\}$ + `eval_expr<-1>`,$\\{\\}$\n",
    "    - `eval_expr<6>`,$\\{\\}$ + `eval_expr<10 / 5 - 3>`,$\\{\\}$\n",
    "    - 5\n",
    "- `eval_expr <x * 5>,`$\\{ x := -1 \\}$\n",
    "    - x * 5\n",
    "    - `eval_expr <x>,`$\\{ x := -1 \\}$ * `eval_expr <5>,`$\\{ x := -1 \\}$\n",
    "    - $\\{ x := -1 \\}$[x] *`eval_expr <5>,`$\\{ x := -1 \\}$ \n",
    "    - $\\{ x := -1 \\}$[x]\n",
    "- `eval_expr <x>,`$\\{ x := -1 \\}$ * `eval_expr<5>,`$\\{ x := -1 \\}$\n",
    "    - -1 * `eval_expr<5>,`$\\{ x := -1 \\}$\n",
    "    - $\\{ x := -1 \\}$[x] * `eval_expr<5>,`$\\{ x := -1 \\}$\n",
    "    - -5\n",
    "    - $\\{ x := -1 \\}$[x] * 5\n",
    "- `eval_expr <x * y>,`$\\{ x := -1, y:= 3, z := 0 \\}$ + `eval_expr<z>,`$\\{ x := -1, y:= 3, z := 0 \\}$\n",
    "    - `eval_expr<x>,`$\\{ x := -1, y:= 3, z := 0 \\}$ * `eval_expr<y>`,$\\{ x := -1, y:= 3, z := 0 \\}$ + $\\{ x := -1, y:= 3, z := 0 \\}$[z]\n",
    "    - -3 + `eval_expr<y>`,$\\{ x := -1, y:= 3, z := 0 \\}$ + $\\{ x := -1, y:= 3, z := 0 \\}$[z]\n",
    "    - -3\n",
    "    - `eval_expr<x>,`$\\{ x := -1, y:= 3, z := 0 \\}$ * `eval_expr<y>`,$\\{ x := -1, y:= 3, z := 0 \\}$ + 0\n"
   ]
  }
 ],
 "metadata": {
  "kernelspec": {
   "display_name": "Python 3",
   "language": "python",
   "name": "python3"
  },
  "language_info": {
   "codemirror_mode": {
    "name": "ipython",
    "version": 3
   },
   "file_extension": ".py",
   "mimetype": "text/x-python",
   "name": "python",
   "nbconvert_exporter": "python",
   "pygments_lexer": "ipython3",
   "version": "3.6.1"
  }
 },
 "nbformat": 4,
 "nbformat_minor": 1
}
