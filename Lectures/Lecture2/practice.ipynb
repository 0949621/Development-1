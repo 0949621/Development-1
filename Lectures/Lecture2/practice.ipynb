{
 "cells": [
  {
   "cell_type": "markdown",
   "metadata": {},
   "source": [
    "# Activities"
   ]
  },
  {
   "cell_type": "markdown",
   "metadata": {},
   "source": [
    "Note: the practice happens almost exclusively on paper, potentially augmented by multiple choice questions in order to submit an answer that shows understanding.\n",
    "\n",
    "The activities performed are:\n",
    "- expression evaluation for numerous integer expressions with state\n",
    "    - `<3 + 2>,`$\\{\\}$\n",
    "    - `<3 + 2 * 5>,`$\\{\\}$\n",
    "    - `<(3 + 2) * 5>,`$\\{\\}$\n",
    "    - `<3 * 2 + 10 / 5 - 3>,` $\\{ \\}$\n",
    "    - `<(x + y) * 5>,`$\\{ x := -1, y := 3 \\}$\n",
    "    - ...\n",
    "- instruction evaluation for numerous small programs with expressions and variable assignment\n",
    "    - ...\n",
    "- translating, by hand, some states from the linear notation $\\{ x := 1, y := 2, p := \\{ \\pi_1 := 1, \\pi_2 := 2 \\} \\}$ into nested tabular notation (see GrandeOmega)\n",
    "    - notice that for large states the nested tabular notation is somewhat more readable\n",
    "    - ...\n",
    "- instruction evaluation for numerous small programs with expressions and variable assignment, but in GrandeOmega and in the form of ForwardAssignments"
   ]
  }
 ],
 "metadata": {
  "kernelspec": {
   "display_name": "Python 3",
   "language": "python",
   "name": "python3"
  },
  "language_info": {
   "codemirror_mode": {
    "name": "ipython",
    "version": 3
   },
   "file_extension": ".py",
   "mimetype": "text/x-python",
   "name": "python",
   "nbconvert_exporter": "python",
   "pygments_lexer": "ipython3",
   "version": "3.6.1"
  }
 },
 "nbformat": 4,
 "nbformat_minor": 1
}
