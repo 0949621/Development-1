{
 "cells": [
  {
   "cell_type": "markdown",
   "metadata": {},
   "source": [
    "# Variables, expressions, and operator precedence"
   ]
  },
  {
   "cell_type": "markdown",
   "metadata": {},
   "source": [
    "_Note_: ensure that students copy, by hand and on paper, the various definitions written by the teacher on the whiteboard. It is strongly advised to ask students *not* to use a laptop, as it will prove distracting.\n",
    "\n",
    "- so far we have seen programs in `Turtle`, where the state is fixed;\n",
    "- programs can also manipulate the extension of the state, to store additional, auxiliary information;\n",
    "- this auxiliary information is often referred to as _variables_, as it can vary;\n",
    "- let us define a new language, `Var`, with the following statements:\n",
    "    - `V := N`, where `V` is a variable name and `N` is an arbitrary integer number (this is called **assignment**);\n",
    "    - `done`;\n",
    "    - `I;J`, where `I` and `J` are arbitrary statements.\n",
    "- define the semantics of `Var`, taking the time to illustrate each statement with an example, as:\n",
    "    - `eval(<V := N>, S)` $\\rightarrow$ `<done>, S[V := N]`;\n",
    "    - `eval(<done>, S)` $\\rightarrow$ `<done>, S`;\n",
    "    - `eval(<I; J>, S)` $\\rightarrow$ `<I';J>, S'` given that `eval(<I>,S)` $\\rightarrow$ `<I'>, S'` and `I` $\\neq$ `done`;\n",
    "    - `eval(<done; I>, S)` $\\rightarrow$ `<I>, S`;\n",
    "- illustrate an example filling in the current date: `day := 2; month := 3; year := 1985; done`\n",
    "- of course this language is not very useful by itself; \n",
    "- what can we do with variables besides _writing_ them to the state? We can also read them!\n",
    "- let us augment `Var` by changing its assignment statement to:\n",
    "    - `V := E`, where `V` is a variable name and `E` becomes an _integer expression_;\n",
    "        - an expression can now be:\n",
    "            - `N`, where `N` is an integer number;\n",
    "            - `E`${_1}$ ` + E`${_2}$, where both `E`$_1$ and `E`$_2$ are expressions;\n",
    "            - `E`${_1}$ ` - E`${_2}$, where both `E`$_1$ and `E`$_2$ are expressions;\n",
    "            - `V`, where `V` is a variable name;\n",
    "- examples of expressions could be: \n",
    "    - `3 + 4`\n",
    "    - `age + 1`\n",
    "    - `x + x`\n",
    "    - `new_score + old_score`\n",
    "    - `year + (2 - 3)`\n",
    "    - notice that we use brackets to define priority of evaluation\n",
    "- is an expression an integer? Not really, but also yes at the same time: there is a mapping from expressions to integer values, which is their evaluation\n",
    "- the semantic of assignment should now be reformulated in order to include evaluation of expressions:\n",
    "    - `eval(<V := N>, S)` $\\rightarrow$ `<done>, S[V := N]`;\n",
    "    - `eval(<V := E>, S)` $\\rightarrow$ `<V := eval_expr(<E>, S)>, S`;\n",
    "- expressions need to be able to read the state, but do not need to write it; for this reason, `eval_expr` needs to read the state, but only returns the evaluated expression:\n",
    "    - `eval_expr(<N>, S)` $\\rightarrow$ `N` (`N` is a number);\n",
    "    - `eval_expr(<N+M>, S)` $\\rightarrow$ `N + M`  (`N`, `M` are both numbers);\n",
    "    - `eval_expr(<E+N>, S)` $\\rightarrow$ `<eval_expr(<E>, S) + N>` (`E` is an expression, `N` is a number);\n",
    "    - `eval_expr(<E+F>, S)` $\\rightarrow$ `<E + eval_expr(<F>, S)>`;\n",
    "    - `eval_expr(<N-M>, S)` $\\rightarrow$ `N - M`;\n",
    "    - `eval_expr(<E-N>, S)` $\\rightarrow$ `<eval_expr(<E>, S) - N>`;\n",
    "    - `eval_expr(<E-F>, S)` $\\rightarrow$ `<E - eval_expr(<F>, S)>`;\n",
    "    - `eval_expr(<V>, S)` $\\rightarrow$ `S[V]` (`V` is a variable name);\n",
    "- let us show some examples of expression evaluation:\n",
    "    - `eval_expr(<3>, {})` $\\rightarrow$ ...\n",
    "    - `eval_expr(<3+2>, {})` $\\rightarrow$ ...\n",
    "    - `eval_expr(<10-x>, { x := 5})` $\\rightarrow$ ...\n",
    "- let us combine expression evaluation and instructions:\n",
    "    - `day := 2; tomorrow := day + 1; done` $\\rightarrow$ ...\n",
    "    - `year := 2017; next_year := year + 1; prev_year := year - 1; done` $\\rightarrow$ ...\n",
    "- we can also extend our language to other operators such as `*` (multiplication) and `/` (division);\n",
    "- we now get ambiguous expressions though: how do we interpret `3 + 10 * 2`?\n",
    "- ..."
   ]
  },
  {
   "cell_type": "code",
   "execution_count": null,
   "metadata": {
    "collapsed": true
   },
   "outputs": [],
   "source": []
  }
 ],
 "metadata": {
  "kernelspec": {
   "display_name": "Python 3",
   "language": "python",
   "name": "python3"
  },
  "language_info": {
   "codemirror_mode": {
    "name": "ipython",
    "version": 3
   },
   "file_extension": ".py",
   "mimetype": "text/x-python",
   "name": "python",
   "nbconvert_exporter": "python",
   "pygments_lexer": "ipython3",
   "version": "3.5.2"
  }
 },
 "nbformat": 4,
 "nbformat_minor": 1
}
