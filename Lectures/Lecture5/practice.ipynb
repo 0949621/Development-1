{
 "cells": [
  {
   "cell_type": "markdown",
   "metadata": {},
   "source": [
    "** Choose the correct sequence of steps for the following evaluations **\n",
    "- `eval(<while True do x := 5>,{})`\n",
    "    -\n",
    "    ```\n",
    "    eval(<while True do x := 5>,{}) $\\rightarrow$ (<if <True> then {x := 5} else {done}>,{})\n",
    "    eval(<if <True> then {x := 5} else {done}>,{}) $\\rightarrow$ (<x := 5>,{})\n",
    "    eval (<x := 5>,{}) $\\rightarrow$ (<done>,{x := 5})\n",
    "    ```\n",
    "    -\n",
    "    ```\n",
    "    eval(<while True do x := 5>,{}) $\\rightarrow$ (<if <True> then {x := 5} else {done}>,{})\n",
    "    eval(<if <True> then {x := 5} else {done}>,{}) $\\rightarrow$ (<done>,{})\n",
    "    ```\n",
    "    -\n",
    "    "
   ]
  }
 ],
 "metadata": {
  "kernelspec": {
   "display_name": "Python 3",
   "language": "python",
   "name": "python3"
  },
  "language_info": {
   "codemirror_mode": {
    "name": "ipython",
    "version": 3
   },
   "file_extension": ".py",
   "mimetype": "text/x-python",
   "name": "python",
   "nbconvert_exporter": "python",
   "pygments_lexer": "ipython3",
   "version": "3.6.1"
  }
 },
 "nbformat": 4,
 "nbformat_minor": 2
}
