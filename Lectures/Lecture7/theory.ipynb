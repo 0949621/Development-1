{
 "cells": [
  {
   "cell_type": "markdown",
   "metadata": {},
   "source": [
    "# Some sample Python programs"
   ]
  },
  {
   "cell_type": "markdown",
   "metadata": {},
   "source": [
    "_Note_: ensure that students copy, by hand and on paper, the various programs written by the teacher on his machine. It is strongly advised to ask students *not* to use a laptop, as it will prove distracting.\n",
    "\n",
    "- we will now perform some basic problem solving\n",
    "- our goal is to implement some very primitive drawings by assembling strings\n",
    "    - lines\n",
    "    - lines with alternating symbols\n",
    "    - squares\n",
    "    - empty squares\n",
    "    - triangles\n",
    "    - pyramids\n",
    "    - circles\n",
    "- for each \"problem\", we will take the following steps:\n",
    "    1. draw the figure\n",
    "    2. analyse its elements; count the rows, identify the properties of each row (length, number of spaces, etc.)\n",
    "    3. top-down, build a first raw program that prints the basic properties\n",
    "    4. when we are satisfied that our program can identify the properties, then we move on to printing by accumulating on a string\n",
    "- notice that we are in no hurry to start assembling the string (our actual output) yet\n",
    "    - instead, we take our time exploring our problem domain\n",
    "    - it is, in general, advisable to not work in a hurry to achieve one's result\n",
    "    - very often, when performing engineering work, analysis and testing achieve results quicker than just trying the fastest route towards the goal\n",
    "        - experts seem to skip the first steps, but this is not true: they have done it so often that they can do it all in their mind\n",
    "- let us start with a single line:\n",
    "- ..."
   ]
  }
 ],
 "metadata": {
  "kernelspec": {
   "display_name": "Python 3",
   "language": "python",
   "name": "python3"
  },
  "language_info": {
   "codemirror_mode": {
    "name": "ipython",
    "version": 3
   },
   "file_extension": ".py",
   "mimetype": "text/x-python",
   "name": "python",
   "nbconvert_exporter": "python",
   "pygments_lexer": "ipython3",
   "version": "3.5.2"
  }
 },
 "nbformat": 4,
 "nbformat_minor": 1
}
