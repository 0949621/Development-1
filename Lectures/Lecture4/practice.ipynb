{
 "cells": [
  {
   "cell_type": "markdown",
   "metadata": {},
   "source": [
    "# Activities"
   ]
  },
  {
   "cell_type": "markdown",
   "metadata": {},
   "source": [
    "**Choose the correct result for the following evaluations**\n",
    "- `eval(<if True then {x := 5} else {x := 3}>, {})`\n",
    "    - `<x := 5>, {}`\n",
    "    - `<done>, {x := 5}`\n",
    "    - `<x := 3>, {}`\n",
    "    - `<done>, {x := 3})`\n",
    "    \n",
    "- `eval(<if x > 2 then {x := 5} else {x := 1}>, {x := 3})`\n",
    "    - `(<if 3 > 2 then {x := 5} else {x := 1}>, {x := 3})`\n",
    "    - `(<if True then {x := 5} else {x := 1}>, {x := 3})`\n",
    "    - `(<if False then {x := 5} else {x := 1}>, {x := 3})`\n",
    "    - `(<if eval_expr(<x > 2>,{x := 3}) then {x := 5} else {x := 1}, {x := 3}>)`\n",
    "    \n",
    "- `eval(<if 1 > 2 then {x := 5} else {x := 1}>, {x := 3})`\n",
    "    - `(<if True then {x := 5} else {x := 1}>, {x := 3})`\n",
    "    - `(<if eval_expr(<1 > 2>,{x := 3}) then {x := 5} else {x := 1}, {x := 3}>)`\n",
    "    - `(<if False then {x := 5} else {x := 1}>, {x := 3})`\n",
    "    - `eval(<x := 1>, {x := 3})`\n",
    "- `eval(<if False then {x := 5} else {x := 1}>, {x := 3})`\n",
    "    - `<x := 5>, {x := 3}`\n",
    "    - `<x := 1>, {x := 3}`\n",
    "    - `<done>, {x := 1}`\n",
    "    - `<done>, {x := 5}`\n",
    "\n",
    "**Complete the assignments in GrandeOmega:**"
   ]
  },
  {
   "cell_type": "code",
   "execution_count": null,
   "metadata": {
    "collapsed": true
   },
   "outputs": [],
   "source": []
  }
 ],
 "metadata": {
  "kernelspec": {
   "display_name": "Python 3",
   "language": "python",
   "name": "python3"
  },
  "language_info": {
   "codemirror_mode": {
    "name": "ipython",
    "version": 3
   },
   "file_extension": ".py",
   "mimetype": "text/x-python",
   "name": "python",
   "nbconvert_exporter": "python",
   "pygments_lexer": "ipython3",
   "version": "3.6.1"
  }
 },
 "nbformat": 4,
 "nbformat_minor": 1
}
